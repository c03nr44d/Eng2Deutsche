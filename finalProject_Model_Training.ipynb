{
  "cells": [
    {
      "cell_type": "code",
      "execution_count": null,
      "metadata": {
        "id": "-3B5hxtReyud"
      },
      "outputs": [],
      "source": [
        "import pandas as pd\n",
        "import re\n",
        "import numpy as np\n",
        "from sklearn.model_selection import train_test_split\n",
        "from tensorflow.keras.preprocessing.text import Tokenizer\n",
        "from tensorflow.keras.preprocessing.sequence import pad_sequences\n",
        "import tensorflow as tf\n",
        "from tensorflow.keras.models import Model\n",
        "from tensorflow.keras.layers import Input, LSTM, Embedding, Dense, RepeatVector\n",
        "import matplotlib.pyplot as plt\n",
        "from keras import optimizers\n",
        "from keras.callbacks import ModelCheckpoint\n",
        "from keras.models import load_model\n",
        "import random\n",
        "from keras.models import Sequential\n",
        "import tensorflow as tf"
      ]
    },
    {
      "cell_type": "markdown",
      "source": [
        "Mount google drive to get access to the data files and the model"
      ],
      "metadata": {
        "id": "qZeJktpZM8xK"
      }
    },
    {
      "cell_type": "code",
      "source": [
        "from google.colab import drive\n",
        "drive.mount('/content/drive')"
      ],
      "metadata": {
        "colab": {
          "base_uri": "https://localhost:8080/"
        },
        "id": "WSnuegRQfLRn",
        "outputId": "10592f20-c168-49b0-b09c-3efd3ded1a86"
      },
      "execution_count": null,
      "outputs": [
        {
          "output_type": "stream",
          "name": "stdout",
          "text": [
            "Mounted at /content/drive\n"
          ]
        }
      ]
    },
    {
      "cell_type": "markdown",
      "source": [
        "Loading in the preprocessed datasets"
      ],
      "metadata": {
        "id": "uvuuAnvmNPrq"
      }
    },
    {
      "cell_type": "code",
      "execution_count": null,
      "metadata": {
        "id": "QAwX7GD4eyuf"
      },
      "outputs": [],
      "source": [
        "df_train = pd.read_csv(\"/content/drive/MyDrive/df_train.csv\")\n",
        "df_test = pd.read_csv(\"/content/drive/MyDrive/df_test.csv\")\n",
        "df_val = pd.read_csv(\"/content/drive/MyDrive/df_val.csv\")\n"
      ]
    },
    {
      "cell_type": "markdown",
      "source": [
        "Test if the data is loaded in properly"
      ],
      "metadata": {
        "id": "_dSJpSGRNRDJ"
      }
    },
    {
      "cell_type": "code",
      "execution_count": null,
      "metadata": {
        "colab": {
          "base_uri": "https://localhost:8080/",
          "height": 206
        },
        "id": "bwA666gGeyug",
        "outputId": "86ea29a0-7417-4078-dd4f-9cc77ee3bc74"
      },
      "outputs": [
        {
          "output_type": "execute_result",
          "data": {
            "text/plain": [
              "                                                   0  \\\n",
              "0                          why didnt i listen to you   \n",
              "1  ancient coins were found inside the mysterious...   \n",
              "2                               he has a nice income   \n",
              "3                   tom is wearing a widebrimmed hat   \n",
              "4                        why not take a few days off   \n",
              "\n",
              "                                                   1  \n",
              "0                  warum habe ich dir nicht zugehört  \n",
              "1  in dem rätselhaften grab wurden antike münzen ...  \n",
              "2                         er hat ein gutes einkommen  \n",
              "3                 tom trägt einen breitkrempigen hut  \n",
              "4     warum nehmen sie sich nicht ein paar tage frei  "
            ],
            "text/html": [
              "\n",
              "  <div id=\"df-85cca542-77ff-4c1d-93f5-0c0ab92ce700\">\n",
              "    <div class=\"colab-df-container\">\n",
              "      <div>\n",
              "<style scoped>\n",
              "    .dataframe tbody tr th:only-of-type {\n",
              "        vertical-align: middle;\n",
              "    }\n",
              "\n",
              "    .dataframe tbody tr th {\n",
              "        vertical-align: top;\n",
              "    }\n",
              "\n",
              "    .dataframe thead th {\n",
              "        text-align: right;\n",
              "    }\n",
              "</style>\n",
              "<table border=\"1\" class=\"dataframe\">\n",
              "  <thead>\n",
              "    <tr style=\"text-align: right;\">\n",
              "      <th></th>\n",
              "      <th>0</th>\n",
              "      <th>1</th>\n",
              "    </tr>\n",
              "  </thead>\n",
              "  <tbody>\n",
              "    <tr>\n",
              "      <th>0</th>\n",
              "      <td>why didnt i listen to you</td>\n",
              "      <td>warum habe ich dir nicht zugehört</td>\n",
              "    </tr>\n",
              "    <tr>\n",
              "      <th>1</th>\n",
              "      <td>ancient coins were found inside the mysterious...</td>\n",
              "      <td>in dem rätselhaften grab wurden antike münzen ...</td>\n",
              "    </tr>\n",
              "    <tr>\n",
              "      <th>2</th>\n",
              "      <td>he has a nice income</td>\n",
              "      <td>er hat ein gutes einkommen</td>\n",
              "    </tr>\n",
              "    <tr>\n",
              "      <th>3</th>\n",
              "      <td>tom is wearing a widebrimmed hat</td>\n",
              "      <td>tom trägt einen breitkrempigen hut</td>\n",
              "    </tr>\n",
              "    <tr>\n",
              "      <th>4</th>\n",
              "      <td>why not take a few days off</td>\n",
              "      <td>warum nehmen sie sich nicht ein paar tage frei</td>\n",
              "    </tr>\n",
              "  </tbody>\n",
              "</table>\n",
              "</div>\n",
              "      <button class=\"colab-df-convert\" onclick=\"convertToInteractive('df-85cca542-77ff-4c1d-93f5-0c0ab92ce700')\"\n",
              "              title=\"Convert this dataframe to an interactive table.\"\n",
              "              style=\"display:none;\">\n",
              "        \n",
              "  <svg xmlns=\"http://www.w3.org/2000/svg\" height=\"24px\"viewBox=\"0 0 24 24\"\n",
              "       width=\"24px\">\n",
              "    <path d=\"M0 0h24v24H0V0z\" fill=\"none\"/>\n",
              "    <path d=\"M18.56 5.44l.94 2.06.94-2.06 2.06-.94-2.06-.94-.94-2.06-.94 2.06-2.06.94zm-11 1L8.5 8.5l.94-2.06 2.06-.94-2.06-.94L8.5 2.5l-.94 2.06-2.06.94zm10 10l.94 2.06.94-2.06 2.06-.94-2.06-.94-.94-2.06-.94 2.06-2.06.94z\"/><path d=\"M17.41 7.96l-1.37-1.37c-.4-.4-.92-.59-1.43-.59-.52 0-1.04.2-1.43.59L10.3 9.45l-7.72 7.72c-.78.78-.78 2.05 0 2.83L4 21.41c.39.39.9.59 1.41.59.51 0 1.02-.2 1.41-.59l7.78-7.78 2.81-2.81c.8-.78.8-2.07 0-2.86zM5.41 20L4 18.59l7.72-7.72 1.47 1.35L5.41 20z\"/>\n",
              "  </svg>\n",
              "      </button>\n",
              "      \n",
              "  <style>\n",
              "    .colab-df-container {\n",
              "      display:flex;\n",
              "      flex-wrap:wrap;\n",
              "      gap: 12px;\n",
              "    }\n",
              "\n",
              "    .colab-df-convert {\n",
              "      background-color: #E8F0FE;\n",
              "      border: none;\n",
              "      border-radius: 50%;\n",
              "      cursor: pointer;\n",
              "      display: none;\n",
              "      fill: #1967D2;\n",
              "      height: 32px;\n",
              "      padding: 0 0 0 0;\n",
              "      width: 32px;\n",
              "    }\n",
              "\n",
              "    .colab-df-convert:hover {\n",
              "      background-color: #E2EBFA;\n",
              "      box-shadow: 0px 1px 2px rgba(60, 64, 67, 0.3), 0px 1px 3px 1px rgba(60, 64, 67, 0.15);\n",
              "      fill: #174EA6;\n",
              "    }\n",
              "\n",
              "    [theme=dark] .colab-df-convert {\n",
              "      background-color: #3B4455;\n",
              "      fill: #D2E3FC;\n",
              "    }\n",
              "\n",
              "    [theme=dark] .colab-df-convert:hover {\n",
              "      background-color: #434B5C;\n",
              "      box-shadow: 0px 1px 3px 1px rgba(0, 0, 0, 0.15);\n",
              "      filter: drop-shadow(0px 1px 2px rgba(0, 0, 0, 0.3));\n",
              "      fill: #FFFFFF;\n",
              "    }\n",
              "  </style>\n",
              "\n",
              "      <script>\n",
              "        const buttonEl =\n",
              "          document.querySelector('#df-85cca542-77ff-4c1d-93f5-0c0ab92ce700 button.colab-df-convert');\n",
              "        buttonEl.style.display =\n",
              "          google.colab.kernel.accessAllowed ? 'block' : 'none';\n",
              "\n",
              "        async function convertToInteractive(key) {\n",
              "          const element = document.querySelector('#df-85cca542-77ff-4c1d-93f5-0c0ab92ce700');\n",
              "          const dataTable =\n",
              "            await google.colab.kernel.invokeFunction('convertToInteractive',\n",
              "                                                     [key], {});\n",
              "          if (!dataTable) return;\n",
              "\n",
              "          const docLinkHtml = 'Like what you see? Visit the ' +\n",
              "            '<a target=\"_blank\" href=https://colab.research.google.com/notebooks/data_table.ipynb>data table notebook</a>'\n",
              "            + ' to learn more about interactive tables.';\n",
              "          element.innerHTML = '';\n",
              "          dataTable['output_type'] = 'display_data';\n",
              "          await google.colab.output.renderOutput(dataTable, element);\n",
              "          const docLink = document.createElement('div');\n",
              "          docLink.innerHTML = docLinkHtml;\n",
              "          element.appendChild(docLink);\n",
              "        }\n",
              "      </script>\n",
              "    </div>\n",
              "  </div>\n",
              "  "
            ]
          },
          "metadata": {},
          "execution_count": 5
        }
      ],
      "source": [
        "df_train.head()"
      ]
    },
    {
      "cell_type": "markdown",
      "source": [
        "Convert data to lists"
      ],
      "metadata": {
        "id": "eegIEzs-NcCv"
      }
    },
    {
      "cell_type": "code",
      "execution_count": null,
      "metadata": {
        "id": "a4ImJUEPeyug"
      },
      "outputs": [],
      "source": [
        "train = df_train.values.tolist()\n",
        "test = df_test.values.tolist()\n",
        "val = df_val.values.tolist()"
      ]
    },
    {
      "cell_type": "code",
      "execution_count": null,
      "metadata": {
        "colab": {
          "base_uri": "https://localhost:8080/"
        },
        "id": "43pS187Zeyug",
        "outputId": "63731cb0-626e-44a7-a46a-c35a796dc7cf"
      },
      "outputs": [
        {
          "output_type": "execute_result",
          "data": {
            "text/plain": [
              "['why didnt i listen to you', 'warum habe ich dir nicht zugehört']"
            ]
          },
          "metadata": {},
          "execution_count": 7
        }
      ],
      "source": [
        "train[0]"
      ]
    },
    {
      "cell_type": "code",
      "execution_count": null,
      "metadata": {
        "colab": {
          "base_uri": "https://localhost:8080/",
          "height": 452
        },
        "id": "Ef1KbYCHeyug",
        "outputId": "00c78260-cf53-40be-c334-c10c9cc4afc4"
      },
      "outputs": [
        {
          "output_type": "display_data",
          "data": {
            "text/plain": [
              "<Figure size 640x480 with 2 Axes>"
            ],
            "image/png": "[encoded data removed]"
          },
          "metadata": {}
        }
      ],
      "source": [
        "en_l = []\n",
        "de_l = []\n",
        "\n",
        "for i in train:\n",
        "    en_l.append(len(i[0].split()))\n",
        "    de_l.append(len(i[1].split()))\n",
        "\n",
        "length_df = pd.DataFrame({'eng': en_l, 'deu': de_l})\n",
        "\n",
        "length_df.hist(bins=30)\n",
        "plt.show()"
      ]
    },
    {
      "cell_type": "markdown",
      "metadata": {
        "id": "vKjOftEFeyug"
      },
      "source": [
        "Histograms above used to decide appropriate padding length for English and German token sequences for training. \\\\\n",
        "By analysing the range of lengths, peak frequency, and outliers; we can see that an appropriate padding length can be around 15 to account for the normal distribution, or 10 to account for the mean. \\\\\n",
        "This value does effect computational cost in training."
      ]
    },
    {
      "cell_type": "markdown",
      "metadata": {
        "id": "yndq5mdHeyuh"
      },
      "source": [
        "Functions below creates the tokenizer for both English and German sentences. \\\\\n",
        "While the original model implementation had a source vocab of 6256, and a target vocab of 10329. We are using a larger vocab of 14341 for English (source) and 28493 for German (target)."
      ]
    },
    {
      "cell_type": "markdown",
      "source": [
        "function to build a tokenizer"
      ],
      "metadata": {
        "id": "b7whTAzYOTGP"
      }
    },
    {
      "cell_type": "code",
      "execution_count": null,
      "metadata": {
        "id": "v6MiTPg3eyuh"
      },
      "outputs": [],
      "source": [
        "def tokenization(lines):\n",
        "    tokenizer = Tokenizer()\n",
        "    tokenizer.fit_on_texts(lines)\n",
        "    return tokenizer"
      ]
    },
    {
      "cell_type": "markdown",
      "source": [
        "Tokenizing the English sentences"
      ],
      "metadata": {
        "id": "VzEOkNxdOYWI"
      }
    },
    {
      "cell_type": "code",
      "execution_count": null,
      "metadata": {
        "colab": {
          "base_uri": "https://localhost:8080/"
        },
        "id": "Bql08RTneyui",
        "outputId": "c80bf0a4-6dc4-46ab-8a84-d91adb4a270e"
      },
      "outputs": [
        {
          "output_type": "stream",
          "name": "stdout",
          "text": [
            "English Vocab: 14341\n"
          ]
        }
      ],
      "source": [
        "en_sentences = []\n",
        "for sentence in train:\n",
        "    en_sentences.append(sentence[0])\n",
        "en_tokenizer = tokenization(en_sentences)\n",
        "en_vocab_size = len(en_tokenizer.word_index) + 1\n",
        "en_length = 15 #Histogram\n",
        "print('English Vocab: %d' % en_vocab_size)"
      ]
    },
    {
      "cell_type": "markdown",
      "source": [
        "Tokenizing the German sentences"
      ],
      "metadata": {
        "id": "pi0gWgxaOZOn"
      }
    },
    {
      "cell_type": "code",
      "execution_count": null,
      "metadata": {
        "colab": {
          "base_uri": "https://localhost:8080/"
        },
        "id": "fxdy15nmeyui",
        "outputId": "cf898c43-8fe6-4dc8-c98a-de03f1ee82fa"
      },
      "outputs": [
        {
          "output_type": "stream",
          "name": "stdout",
          "text": [
            "German Vocab: 28493\n"
          ]
        }
      ],
      "source": [
        "de_sentences = []\n",
        "for sentence in train:\n",
        "    de_sentences.append(sentence[1])\n",
        "de_tokenizer = tokenization(de_sentences)\n",
        "de_vocab_size = len(de_tokenizer.word_index) + 1\n",
        "de_length = 15 #Hisogram\n",
        "print('German Vocab: %d' % de_vocab_size)"
      ]
    },
    {
      "cell_type": "markdown",
      "metadata": {
        "id": "6UlFjQ88eyui"
      },
      "source": [
        "Function that zero pads the sentences based on tokenizer for training"
      ]
    },
    {
      "cell_type": "code",
      "execution_count": null,
      "metadata": {
        "id": "6Cwh5nOoeyui"
      },
      "outputs": [],
      "source": [
        "def encode_sequences(tokenizer, length, lines):\n",
        "    seq = tokenizer.texts_to_sequences(lines)\n",
        "    seq = pad_sequences(seq, maxlen=length, padding='post')\n",
        "    return seq"
      ]
    },
    {
      "cell_type": "markdown",
      "metadata": {
        "id": "q6ceXmv1eyuj"
      },
      "source": [
        "The source sequences, or our English sentences will be encoded as X. While our target German sequences will be encoded as Y."
      ]
    },
    {
      "cell_type": "code",
      "execution_count": null,
      "metadata": {
        "id": "mrP-QpDReyuj"
      },
      "outputs": [],
      "source": [
        "trainX = encode_sequences(en_tokenizer, en_length, [sentence[0] for sentence in train])\n",
        "trainY = encode_sequences(de_tokenizer, de_length, [sentence[1] for sentence in train])\n",
        "\n",
        "testX = encode_sequences(en_tokenizer, en_length, [sentence[0] for sentence in test])\n",
        "testY = encode_sequences(de_tokenizer, de_length, [sentence[1] for sentence in test])\n",
        "\n",
        "valX = encode_sequences(en_tokenizer, en_length, [sentence[0] for sentence in val])\n",
        "valY = encode_sequences(de_tokenizer, de_length, [sentence[1] for sentence in val])"
      ]
    },
    {
      "cell_type": "markdown",
      "metadata": {
        "id": "xi_WbAKgeyuj"
      },
      "source": [
        "Model Definition"
      ]
    },
    {
      "cell_type": "code",
      "execution_count": null,
      "metadata": {
        "id": "5y0_V2wPeyuj"
      },
      "outputs": [],
      "source": [
        "def define_model(in_vocab,out_vocab, in_timesteps,out_timesteps,units):\n",
        "    model = Sequential()\n",
        "    model.add(Embedding(in_vocab, units, input_length=in_timesteps, mask_zero=True))\n",
        "    model.add(LSTM(units))\n",
        "    model.add(RepeatVector(out_timesteps))\n",
        "    model.add(LSTM(units, return_sequences=True))\n",
        "    model.add(Dense(out_vocab, activation='softmax'))\n",
        "    return model"
      ]
    },
    {
      "cell_type": "markdown",
      "metadata": {
        "id": "-oKHZUTFeyuj"
      },
      "source": [
        "Compile and run model"
      ]
    },
    {
      "cell_type": "code",
      "execution_count": null,
      "metadata": {
        "colab": {
          "base_uri": "https://localhost:8080/"
        },
        "id": "kNi0_cwveyuj",
        "outputId": "6e5a1905-27a9-4c3d-eed8-b23f707cfdfb"
      },
      "outputs": [
        {
          "output_type": "stream",
          "name": "stdout",
          "text": [
            "Epoch 1/20\n"
          ]
        },
        {
          "output_type": "stream",
          "name": "stderr",
          "text": [
            "/usr/local/lib/python3.10/dist-packages/keras/optimizers/legacy/rmsprop.py:143: UserWarning: The `lr` argument is deprecated, use `learning_rate` instead.\n",
            "  super().__init__(name, **kwargs)\n"
          ]
        },
        {
          "output_type": "stream",
          "name": "stdout",
          "text": [
            "266/267 [============================>.] - ETA: 0s - loss: 3.1049"
          ]
        },
        {
          "output_type": "stream",
          "name": "stderr",
          "text": [
            "WARNING:absl:Found untraced functions such as lstm_cell_8_layer_call_fn, lstm_cell_8_layer_call_and_return_conditional_losses, lstm_cell_9_layer_call_fn, lstm_cell_9_layer_call_and_return_conditional_losses while saving (showing 4 of 4). These functions will not be directly callable after loading.\n"
          ]
        },
        {
          "output_type": "stream",
          "name": "stdout",
          "text": [
            "\b\b\b\b\b\b\b\b\b\b\b\b\b\b\b\b\b\b\b\b\b\b\b\b\b\b\b\b\b\b\b\b\b\b\b\b\b\b\b\b\b\b\b\b\b\b\b\b\b\b\b\b\b\b\b\b\b\b\b\b\b\b\b\b\b\r267/267 [==============================] - 106s 378ms/step - loss: 3.1048 - val_loss: 2.7091\n",
            "Epoch 2/20\n",
            "266/267 [============================>.] - ETA: 0s - loss: 2.5964"
          ]
        },
        {
          "output_type": "stream",
          "name": "stderr",
          "text": [
            "WARNING:absl:Found untraced functions such as lstm_cell_8_layer_call_fn, lstm_cell_8_layer_call_and_return_conditional_losses, lstm_cell_9_layer_call_fn, lstm_cell_9_layer_call_and_return_conditional_losses while saving (showing 4 of 4). These functions will not be directly callable after loading.\n"
          ]
        },
        {
          "output_type": "stream",
          "name": "stdout",
          "text": [
            "\b\b\b\b\b\b\b\b\b\b\b\b\b\b\b\b\b\b\b\b\b\b\b\b\b\b\b\b\b\b\b\b\b\b\b\b\b\b\b\b\b\b\b\b\b\b\b\b\b\b\b\b\b\b\b\b\b\b\b\b\b\b\b\b\b\r267/267 [==============================] - 100s 376ms/step - loss: 2.5964 - val_loss: 2.4028\n",
            "Epoch 3/20\n",
            "266/267 [============================>.] - ETA: 0s - loss: 2.3329"
          ]
        },
        {
          "output_type": "stream",
          "name": "stderr",
          "text": [
            "WARNING:absl:Found untraced functions such as lstm_cell_8_layer_call_fn, lstm_cell_8_layer_call_and_return_conditional_losses, lstm_cell_9_layer_call_fn, lstm_cell_9_layer_call_and_return_conditional_losses while saving (showing 4 of 4). These functions will not be directly callable after loading.\n"
          ]
        },
        {
          "output_type": "stream",
          "name": "stdout",
          "text": [
            "\b\b\b\b\b\b\b\b\b\b\b\b\b\b\b\b\b\b\b\b\b\b\b\b\b\b\b\b\b\b\b\b\b\b\b\b\b\b\b\b\b\b\b\b\b\b\b\b\b\b\b\b\b\b\b\b\b\b\b\b\b\b\b\b\b\r267/267 [==============================] - 111s 417ms/step - loss: 2.3329 - val_loss: 2.2096\n",
            "Epoch 4/20\n",
            "267/267 [==============================] - ETA: 0s - loss: 2.1232"
          ]
        },
        {
          "output_type": "stream",
          "name": "stderr",
          "text": [
            "WARNING:absl:Found untraced functions such as lstm_cell_8_layer_call_fn, lstm_cell_8_layer_call_and_return_conditional_losses, lstm_cell_9_layer_call_fn, lstm_cell_9_layer_call_and_return_conditional_losses while saving (showing 4 of 4). These functions will not be directly callable after loading.\n"
          ]
        },
        {
          "output_type": "stream",
          "name": "stdout",
          "text": [
            "\b\b\b\b\b\b\b\b\b\b\b\b\b\b\b\b\b\b\b\b\b\b\b\b\b\b\b\b\b\b\b\b\b\b\b\b\b\b\b\b\b\b\b\b\b\b\b\b\b\b\b\b\b\b\b\b\b\b\b\b\b\b\b\b\b\r267/267 [==============================] - 102s 381ms/step - loss: 2.1232 - val_loss: 2.0260\n",
            "Epoch 5/20\n",
            "267/267 [==============================] - ETA: 0s - loss: 1.9344"
          ]
        },
        {
          "output_type": "stream",
          "name": "stderr",
          "text": [
            "WARNING:absl:Found untraced functions such as lstm_cell_8_layer_call_fn, lstm_cell_8_layer_call_and_return_conditional_losses, lstm_cell_9_layer_call_fn, lstm_cell_9_layer_call_and_return_conditional_losses while saving (showing 4 of 4). These functions will not be directly callable after loading.\n"
          ]
        },
        {
          "output_type": "stream",
          "name": "stdout",
          "text": [
            "\b\b\b\b\b\b\b\b\b\b\b\b\b\b\b\b\b\b\b\b\b\b\b\b\b\b\b\b\b\b\b\b\b\b\b\b\b\b\b\b\b\b\b\b\b\b\b\b\b\b\b\b\b\b\b\b\b\b\b\b\b\b\b\b\b\r267/267 [==============================] - 102s 381ms/step - loss: 1.9344 - val_loss: 1.8852\n",
            "Epoch 6/20\n",
            "267/267 [==============================] - ETA: 0s - loss: 1.7770"
          ]
        },
        {
          "output_type": "stream",
          "name": "stderr",
          "text": [
            "WARNING:absl:Found untraced functions such as lstm_cell_8_layer_call_fn, lstm_cell_8_layer_call_and_return_conditional_losses, lstm_cell_9_layer_call_fn, lstm_cell_9_layer_call_and_return_conditional_losses while saving (showing 4 of 4). These functions will not be directly callable after loading.\n"
          ]
        },
        {
          "output_type": "stream",
          "name": "stdout",
          "text": [
            "\b\b\b\b\b\b\b\b\b\b\b\b\b\b\b\b\b\b\b\b\b\b\b\b\b\b\b\b\b\b\b\b\b\b\b\b\b\b\b\b\b\b\b\b\b\b\b\b\b\b\b\b\b\b\b\b\b\b\b\b\b\b\b\b\b\r267/267 [==============================] - 111s 415ms/step - loss: 1.7770 - val_loss: 1.7760\n",
            "Epoch 7/20\n",
            "266/267 [============================>.] - ETA: 0s - loss: 1.6482"
          ]
        },
        {
          "output_type": "stream",
          "name": "stderr",
          "text": [
            "WARNING:absl:Found untraced functions such as lstm_cell_8_layer_call_fn, lstm_cell_8_layer_call_and_return_conditional_losses, lstm_cell_9_layer_call_fn, lstm_cell_9_layer_call_and_return_conditional_losses while saving (showing 4 of 4). These functions will not be directly callable after loading.\n"
          ]
        },
        {
          "output_type": "stream",
          "name": "stdout",
          "text": [
            "\b\b\b\b\b\b\b\b\b\b\b\b\b\b\b\b\b\b\b\b\b\b\b\b\b\b\b\b\b\b\b\b\b\b\b\b\b\b\b\b\b\b\b\b\b\b\b\b\b\b\b\b\b\b\b\b\b\b\b\b\b\b\b\b\b\r267/267 [==============================] - 102s 381ms/step - loss: 1.6482 - val_loss: 1.6876\n",
            "Epoch 8/20\n",
            "266/267 [============================>.] - ETA: 0s - loss: 1.5408"
          ]
        },
        {
          "output_type": "stream",
          "name": "stderr",
          "text": [
            "WARNING:absl:Found untraced functions such as lstm_cell_8_layer_call_fn, lstm_cell_8_layer_call_and_return_conditional_losses, lstm_cell_9_layer_call_fn, lstm_cell_9_layer_call_and_return_conditional_losses while saving (showing 4 of 4). These functions will not be directly callable after loading.\n"
          ]
        },
        {
          "output_type": "stream",
          "name": "stdout",
          "text": [
            "\b\b\b\b\b\b\b\b\b\b\b\b\b\b\b\b\b\b\b\b\b\b\b\b\b\b\b\b\b\b\b\b\b\b\b\b\b\b\b\b\b\b\b\b\b\b\b\b\b\b\b\b\b\b\b\b\b\b\b\b\b\b\b\b\b\r267/267 [==============================] - 102s 380ms/step - loss: 1.5409 - val_loss: 1.6165\n",
            "Epoch 9/20\n",
            "266/267 [============================>.] - ETA: 0s - loss: 1.4491"
          ]
        },
        {
          "output_type": "stream",
          "name": "stderr",
          "text": [
            "WARNING:absl:Found untraced functions such as lstm_cell_8_layer_call_fn, lstm_cell_8_layer_call_and_return_conditional_losses, lstm_cell_9_layer_call_fn, lstm_cell_9_layer_call_and_return_conditional_losses while saving (showing 4 of 4). These functions will not be directly callable after loading.\n"
          ]
        },
        {
          "output_type": "stream",
          "name": "stdout",
          "text": [
            "\b\b\b\b\b\b\b\b\b\b\b\b\b\b\b\b\b\b\b\b\b\b\b\b\b\b\b\b\b\b\b\b\b\b\b\b\b\b\b\b\b\b\b\b\b\b\b\b\b\b\b\b\b\b\b\b\b\b\b\b\b\b\b\b\b\r267/267 [==============================] - 101s 378ms/step - loss: 1.4491 - val_loss: 1.5918\n",
            "Epoch 10/20\n",
            "266/267 [============================>.] - ETA: 0s - loss: 1.3689"
          ]
        },
        {
          "output_type": "stream",
          "name": "stderr",
          "text": [
            "WARNING:absl:Found untraced functions such as lstm_cell_8_layer_call_fn, lstm_cell_8_layer_call_and_return_conditional_losses, lstm_cell_9_layer_call_fn, lstm_cell_9_layer_call_and_return_conditional_losses while saving (showing 4 of 4). These functions will not be directly callable after loading.\n"
          ]
        },
        {
          "output_type": "stream",
          "name": "stdout",
          "text": [
            "\b\b\b\b\b\b\b\b\b\b\b\b\b\b\b\b\b\b\b\b\b\b\b\b\b\b\b\b\b\b\b\b\b\b\b\b\b\b\b\b\b\b\b\b\b\b\b\b\b\b\b\b\b\b\b\b\b\b\b\b\b\b\b\b\b\r267/267 [==============================] - 102s 382ms/step - loss: 1.3689 - val_loss: 1.5087\n",
            "Epoch 11/20\n",
            "266/267 [============================>.] - ETA: 0s - loss: 1.2984"
          ]
        },
        {
          "output_type": "stream",
          "name": "stderr",
          "text": [
            "WARNING:absl:Found untraced functions such as lstm_cell_8_layer_call_fn, lstm_cell_8_layer_call_and_return_conditional_losses, lstm_cell_9_layer_call_fn, lstm_cell_9_layer_call_and_return_conditional_losses while saving (showing 4 of 4). These functions will not be directly callable after loading.\n"
          ]
        },
        {
          "output_type": "stream",
          "name": "stdout",
          "text": [
            "\b\b\b\b\b\b\b\b\b\b\b\b\b\b\b\b\b\b\b\b\b\b\b\b\b\b\b\b\b\b\b\b\b\b\b\b\b\b\b\b\b\b\b\b\b\b\b\b\b\b\b\b\b\b\b\b\b\b\b\b\b\b\b\b\b\r267/267 [==============================] - 102s 381ms/step - loss: 1.2983 - val_loss: 1.4946\n",
            "Epoch 12/20\n",
            "266/267 [============================>.] - ETA: 0s - loss: 1.2334"
          ]
        },
        {
          "output_type": "stream",
          "name": "stderr",
          "text": [
            "WARNING:absl:Found untraced functions such as lstm_cell_8_layer_call_fn, lstm_cell_8_layer_call_and_return_conditional_losses, lstm_cell_9_layer_call_fn, lstm_cell_9_layer_call_and_return_conditional_losses while saving (showing 4 of 4). These functions will not be directly callable after loading.\n"
          ]
        },
        {
          "output_type": "stream",
          "name": "stdout",
          "text": [
            "\b\b\b\b\b\b\b\b\b\b\b\b\b\b\b\b\b\b\b\b\b\b\b\b\b\b\b\b\b\b\b\b\b\b\b\b\b\b\b\b\b\b\b\b\b\b\b\b\b\b\b\b\b\b\b\b\b\b\b\b\b\b\b\b\b\r267/267 [==============================] - 111s 415ms/step - loss: 1.2334 - val_loss: 1.4641\n",
            "Epoch 13/20\n",
            "266/267 [============================>.] - ETA: 0s - loss: 1.1729"
          ]
        },
        {
          "output_type": "stream",
          "name": "stderr",
          "text": [
            "WARNING:absl:Found untraced functions such as lstm_cell_8_layer_call_fn, lstm_cell_8_layer_call_and_return_conditional_losses, lstm_cell_9_layer_call_fn, lstm_cell_9_layer_call_and_return_conditional_losses while saving (showing 4 of 4). These functions will not be directly callable after loading.\n"
          ]
        },
        {
          "output_type": "stream",
          "name": "stdout",
          "text": [
            "\b\b\b\b\b\b\b\b\b\b\b\b\b\b\b\b\b\b\b\b\b\b\b\b\b\b\b\b\b\b\b\b\b\b\b\b\b\b\b\b\b\b\b\b\b\b\b\b\b\b\b\b\b\b\b\b\b\b\b\b\b\b\b\b\b\r267/267 [==============================] - 101s 380ms/step - loss: 1.1728 - val_loss: 1.4518\n",
            "Epoch 14/20\n",
            "266/267 [============================>.] - ETA: 0s - loss: 1.1185"
          ]
        },
        {
          "output_type": "stream",
          "name": "stderr",
          "text": [
            "WARNING:absl:Found untraced functions such as lstm_cell_8_layer_call_fn, lstm_cell_8_layer_call_and_return_conditional_losses, lstm_cell_9_layer_call_fn, lstm_cell_9_layer_call_and_return_conditional_losses while saving (showing 4 of 4). These functions will not be directly callable after loading.\n"
          ]
        },
        {
          "output_type": "stream",
          "name": "stdout",
          "text": [
            "\b\b\b\b\b\b\b\b\b\b\b\b\b\b\b\b\b\b\b\b\b\b\b\b\b\b\b\b\b\b\b\b\b\b\b\b\b\b\b\b\b\b\b\b\b\b\b\b\b\b\b\b\b\b\b\b\b\b\b\b\b\b\b\b\b\r267/267 [==============================] - 101s 380ms/step - loss: 1.1184 - val_loss: 1.4280\n",
            "Epoch 15/20\n",
            "267/267 [==============================] - 88s 330ms/step - loss: 1.0692 - val_loss: 1.4421\n",
            "Epoch 16/20\n",
            "266/267 [============================>.] - ETA: 0s - loss: 1.0201"
          ]
        },
        {
          "output_type": "stream",
          "name": "stderr",
          "text": [
            "WARNING:absl:Found untraced functions such as lstm_cell_8_layer_call_fn, lstm_cell_8_layer_call_and_return_conditional_losses, lstm_cell_9_layer_call_fn, lstm_cell_9_layer_call_and_return_conditional_losses while saving (showing 4 of 4). These functions will not be directly callable after loading.\n"
          ]
        },
        {
          "output_type": "stream",
          "name": "stdout",
          "text": [
            "\b\b\b\b\b\b\b\b\b\b\b\b\b\b\b\b\b\b\b\b\b\b\b\b\b\b\b\b\b\b\b\b\b\b\b\b\b\b\b\b\b\b\b\b\b\b\b\b\b\b\b\b\b\b\b\b\b\b\b\b\b\b\b\b\b\r267/267 [==============================] - 101s 377ms/step - loss: 1.0201 - val_loss: 1.4165\n",
            "Epoch 17/20\n",
            "266/267 [============================>.] - ETA: 0s - loss: 0.9734"
          ]
        },
        {
          "output_type": "stream",
          "name": "stderr",
          "text": [
            "WARNING:absl:Found untraced functions such as lstm_cell_8_layer_call_fn, lstm_cell_8_layer_call_and_return_conditional_losses, lstm_cell_9_layer_call_fn, lstm_cell_9_layer_call_and_return_conditional_losses while saving (showing 4 of 4). These functions will not be directly callable after loading.\n"
          ]
        },
        {
          "output_type": "stream",
          "name": "stdout",
          "text": [
            "\b\b\b\b\b\b\b\b\b\b\b\b\b\b\b\b\b\b\b\b\b\b\b\b\b\b\b\b\b\b\b\b\b\b\b\b\b\b\b\b\b\b\b\b\b\b\b\b\b\b\b\b\b\b\b\b\b\b\b\b\b\b\b\b\b\r267/267 [==============================] - 102s 381ms/step - loss: 0.9734 - val_loss: 1.4132\n",
            "Epoch 18/20\n",
            "267/267 [==============================] - 88s 329ms/step - loss: 0.9302 - val_loss: 1.4133\n",
            "Epoch 19/20\n",
            "267/267 [==============================] - 97s 364ms/step - loss: 0.8892 - val_loss: 1.4189\n",
            "Epoch 20/20\n",
            "267/267 [==============================] - 88s 330ms/step - loss: 0.8492 - val_loss: 1.4240\n"
          ]
        }
      ],
      "source": [
        "model = define_model(en_vocab_size, de_vocab_size, en_length, de_length, 512)\n",
        "rms = optimizers.RMSprop(lr=0.001)\n",
        "model.compile(optimizer=rms, loss='sparse_categorical_crossentropy')\n",
        "\n",
        "filename = 'model.en2de_jun_13'\n",
        "checkpoint = ModelCheckpoint(filename, monitor='val_loss', save_best_only=True, mode='min')\n",
        "\n",
        "history = model.fit(trainX,\n",
        "                    trainY.reshape(trainY.shape[0], trainY.shape[1], 1),\n",
        "                    epochs=20, batch_size=512,\n",
        "                    validation_data=(valX, valY.reshape(valY.shape[0], valY.shape[1], 1)),\n",
        "                    callbacks=[checkpoint])"
      ]
    },
    {
      "cell_type": "markdown",
      "metadata": {
        "id": "ofLurHCueyuj"
      },
      "source": [
        "Plots training and validation loss across epochs. \\\\\n",
        "Loss function indicates that our model is working properly, though slightly overfitting."
      ]
    },
    {
      "cell_type": "code",
      "execution_count": null,
      "metadata": {
        "colab": {
          "base_uri": "https://localhost:8080/",
          "height": 472
        },
        "id": "H5wDBZYVeyuk",
        "outputId": "cd412936-821c-4d85-a05f-f3c385488286"
      },
      "outputs": [
        {
          "output_type": "display_data",
          "data": {
            "text/plain": [
              "<Figure size 640x480 with 1 Axes>"
            ],
            "image/png": "[encoded data removed]"
          },
          "metadata": {}
        }
      ],
      "source": [
        "plt.plot(range(1, 21), history.history['loss'])\n",
        "plt.plot(range(1, 21), history.history['val_loss'])\n",
        "plt.legend(['train', 'validation'])\n",
        "plt.xticks(range(1, 21))\n",
        "plt.xlabel('Epoch')\n",
        "plt.ylabel('Loss')\n",
        "plt.title('Training and Validation Loss')\n",
        "plt.show()"
      ]
    },
    {
      "cell_type": "markdown",
      "metadata": {
        "id": "H_vtqXgneyuk"
      },
      "source": [
        "Functions that returns word assigned to index in tokenizer"
      ]
    },
    {
      "cell_type": "code",
      "source": [
        "def get_word(n, tokenizer):\n",
        "    for word, index in tokenizer.word_index.items():\n",
        "        if index == n:\n",
        "            return word\n",
        "    return None"
      ],
      "metadata": {
        "id": "ykTZHOkmnhGC"
      },
      "execution_count": null,
      "outputs": []
    },
    {
      "cell_type": "markdown",
      "source": [
        "Function for saving the model"
      ],
      "metadata": {
        "id": "H3SkItjRnkQ5"
      }
    },
    {
      "cell_type": "code",
      "source": [
        "tf.keras.models.save_model(model, '/content/drive/MyDrive/modelFinal/trained_model.h5', save_format='h5')"
      ],
      "metadata": {
        "id": "Y-wcxqrSnhkR"
      },
      "execution_count": null,
      "outputs": []
    },
    {
      "cell_type": "markdown",
      "source": [
        "Function for zipping the model to local drive from colab notebook.\n",
        "\n"
      ],
      "metadata": {
        "id": "8WydjT4BpGjD"
      }
    },
    {
      "cell_type": "code",
      "source": [
        "'''import zipfile\n",
        "from google.colab import files as colab_files\n",
        "import os\n",
        "\n",
        "# Specify the path to the folder in Google Colab\n",
        "colab_folder_path = '/content/drive/MyDrive'\n",
        "\n",
        "# Create a zip archive of the folder\n",
        "zip_file_path = 'C:/Users/imaxo/Desktop/RUG FSE/Natural Language Processing/Project/modelFinal.zip'\n",
        "with zipfile.ZipFile(zip_file_path, 'w', zipfile.ZIP_DEFLATED) as zipf:\n",
        "    for root, dirs, files in os.walk(colab_folder_path):\n",
        "        for file in files:\n",
        "            file_path = os.path.join(root, file)\n",
        "            zipf.write(file_path, os.path.relpath(file_path, colab_folder_path))\n",
        "\n",
        "# Download the zip file\n",
        "colab_files.download(zip_file_path)'''"
      ],
      "metadata": {
        "colab": {
          "base_uri": "https://localhost:8080/",
          "height": 105
        },
        "id": "weCFYVoPpBjP",
        "outputId": "0c73f81a-f698-41c5-c79c-336c3e0161ac"
      },
      "execution_count": null,
      "outputs": [
        {
          "output_type": "execute_result",
          "data": {
            "text/plain": [
              "\"import zipfile\\nfrom google.colab import files as colab_files\\nimport os\\n\\n# Specify the path to the folder in Google Colab\\ncolab_folder_path = '/content/drive/MyDrive'\\n\\n# Create a zip archive of the folder\\nzip_file_path = 'C:/Users/imaxo/Desktop/RUG FSE/Natural Language Processing/Project/modelFinal.zip'\\nwith zipfile.ZipFile(zip_file_path, 'w', zipfile.ZIP_DEFLATED) as zipf:\\n    for root, dirs, files in os.walk(colab_folder_path):\\n        for file in files:\\n            file_path = os.path.join(root, file)\\n            zipf.write(file_path, os.path.relpath(file_path, colab_folder_path))\\n\\n# Download the zip file\\ncolab_files.download(zip_file_path)\""
            ],
            "application/vnd.google.colaboratory.intrinsic+json": {
              "type": "string"
            }
          },
          "metadata": {},
          "execution_count": 42
        }
      ]
    },
    {
      "cell_type": "code",
      "source": [],
      "metadata": {
        "id": "EFTFKeapt0AO"
      },
      "execution_count": null,
      "outputs": []
    },
    {
      "cell_type": "markdown",
      "source": [
        "Functions for testing model performance on test dataset"
      ],
      "metadata": {
        "id": "VfiVq5Gntza2"
      }
    },
    {
      "cell_type": "code",
      "source": [
        "#Create subset of data to avoid memory issues\n",
        "testX = testX[0:20]\n",
        "testY = testY[0:20]\n",
        "\n",
        "preds = np.argmax(model.predict(testX.reshape((testX.shape[0],testX.shape[1]))), axis=-1)\n",
        "\n",
        "preds_text = []\n",
        "for i in preds:\n",
        "    temp = []\n",
        "    for j in range(len(i)):\n",
        "        t = get_word(i[j], de_tokenizer)\n",
        "        if j > 0:\n",
        "            if (t == get_word(i[j-1], de_tokenizer)) or (t == None):\n",
        "                temp.append('')\n",
        "            else:\n",
        "                temp.append(t)\n",
        "        else:\n",
        "            if(t == None):\n",
        "                temp.append('')\n",
        "            else:\n",
        "                temp.append(t)\n",
        "\n",
        "    preds_text.append(' '.join(temp))"
      ],
      "metadata": {
        "colab": {
          "base_uri": "https://localhost:8080/"
        },
        "id": "A521zuS_tzx7",
        "outputId": "633758e3-41be-4f48-a75d-a0365728db9b"
      },
      "execution_count": null,
      "outputs": [
        {
          "output_type": "stream",
          "name": "stdout",
          "text": [
            "1/1 [==============================] - 1s 1s/step\n"
          ]
        }
      ]
    },
    {
      "cell_type": "code",
      "source": [
        "initial_sentences = [sentence[0] for sentence in test[0:20]]\n",
        "actual_german = [sentence[1] for sentence in test[0:20]]\n",
        "\n",
        "pred_df = pd.DataFrame({'english': initial_sentences, 'predicted german': preds_text, 'actual german': actual_german})\n",
        "pred_df"
      ],
      "metadata": {
        "colab": {
          "base_uri": "https://localhost:8080/",
          "height": 583
        },
        "id": "dIqbGxJCt3GK",
        "outputId": "27d3648d-b4e9-4d66-b221-d5000a5daf33"
      },
      "execution_count": null,
      "outputs": [
        {
          "output_type": "execute_result",
          "data": {
            "text/plain": [
              "                                              english  \\\n",
              "0                                    where is the bus   \n",
              "1   tom thinks it impossible for mary to break the...   \n",
              "2   wed better go to another room so they cant hea...   \n",
              "3                                  hide in the closet   \n",
              "4   tom asked mary to tell him about the house she...   \n",
              "5                           tom is my flesh and blood   \n",
              "6                                you are what you eat   \n",
              "7                         shes a single mother of two   \n",
              "8                    i am losing my patience with you   \n",
              "9                          this meeting room is small   \n",
              "10                                why are people here   \n",
              "11                                           its here   \n",
              "12                            do you accept visa card   \n",
              "13         as we grow older our memory becomes weaker   \n",
              "14                          check to see if its right   \n",
              "15     has tom already told you what needs to be done   \n",
              "16                          i almost never drink milk   \n",
              "17  i canceled my appointment because of urgent bu...   \n",
              "18         i love tom and at the same time i hate him   \n",
              "19                                      i made tom go   \n",
              "\n",
              "                                     predicted german  \\\n",
              "0                           wo ist der bus              \n",
              "1                 tom glaubt es maria  das  zu          \n",
              "2   wir sollten wir noch ein nicht  was können wir...   \n",
              "3                            froh sie den               \n",
              "4                     sie  ihm einem   sie     ein      \n",
              "5                         tom ist mein und              \n",
              "6                       du bist was du isst             \n",
              "7                   sie ist eine ihrer frau             \n",
              "8         ich verliere die geduld mit geduld            \n",
              "9                dieses diesem ist in klein             \n",
              "10                    warum sind die leute              \n",
              "11                            es ist hier               \n",
              "12                       hast du ein karte              \n",
              "13                 wie wir   unser freut wird           \n",
              "14                      schau mal ob es das             \n",
              "15  hat tom dir schon gesagt was getan werden muss...   \n",
              "16                   ich trinke fast milch              \n",
              "17     ich habe meinen versehen als ich statt           \n",
              "18                 ich liebe tom und ich  ihn           \n",
              "19                      ich habe tom gehen              \n",
              "\n",
              "                                        actual german  \n",
              "0                                      wo ist der bus  \n",
              "1   tom glaubt dass es maria unmöglich sei den rek...  \n",
              "2   wir gehen besser in ein anderes zimmer damit n...  \n",
              "3                            versteck dich im schrank  \n",
              "4   tom bat mary ihm von dem haus zu erzählen in d...  \n",
              "5                       tom ist mein fleisch und blut  \n",
              "6                               ihr seid was ihr esst  \n",
              "7   sie ist eine alleinerziehende mutter zweier ki...  \n",
              "8                   ich verliere die geduld mit ihnen  \n",
              "9                        das sitzungszimmer ist klein  \n",
              "10                          warum sind die leute hier  \n",
              "11                                        es ist hier  \n",
              "12                         akzeptieren sie visakarten  \n",
              "13  mit zunehmendem alter wird unser gedächtnis sc...  \n",
              "14                           schau nach ob das stimmt  \n",
              "15   hat dir tom schon gesagt was gemacht werden muss  \n",
              "16                          ich trinke fast nie milch  \n",
              "17  ich habe den termin wegen dringender geschäftl...  \n",
              "18       ich liebe tom und gleichzeitig hasse ich ihn  \n",
              "19                   ich habe tom veranlasst zu gehen  "
            ],
            "text/html": [
              "\n",
              "  <div id=\"df-0f071161-6dd3-4d78-8690-b8d6430bdb74\">\n",
              "    <div class=\"colab-df-container\">\n",
              "      <div>\n",
              "<style scoped>\n",
              "    .dataframe tbody tr th:only-of-type {\n",
              "        vertical-align: middle;\n",
              "    }\n",
              "\n",
              "    .dataframe tbody tr th {\n",
              "        vertical-align: top;\n",
              "    }\n",
              "\n",
              "    .dataframe thead th {\n",
              "        text-align: right;\n",
              "    }\n",
              "</style>\n",
              "<table border=\"1\" class=\"dataframe\">\n",
              "  <thead>\n",
              "    <tr style=\"text-align: right;\">\n",
              "      <th></th>\n",
              "      <th>english</th>\n",
              "      <th>predicted german</th>\n",
              "      <th>actual german</th>\n",
              "    </tr>\n",
              "  </thead>\n",
              "  <tbody>\n",
              "    <tr>\n",
              "      <th>0</th>\n",
              "      <td>where is the bus</td>\n",
              "      <td>wo ist der bus</td>\n",
              "      <td>wo ist der bus</td>\n",
              "    </tr>\n",
              "    <tr>\n",
              "      <th>1</th>\n",
              "      <td>tom thinks it impossible for mary to break the...</td>\n",
              "      <td>tom glaubt es maria  das  zu</td>\n",
              "      <td>tom glaubt dass es maria unmöglich sei den rek...</td>\n",
              "    </tr>\n",
              "    <tr>\n",
              "      <th>2</th>\n",
              "      <td>wed better go to another room so they cant hea...</td>\n",
              "      <td>wir sollten wir noch ein nicht  was können wir...</td>\n",
              "      <td>wir gehen besser in ein anderes zimmer damit n...</td>\n",
              "    </tr>\n",
              "    <tr>\n",
              "      <th>3</th>\n",
              "      <td>hide in the closet</td>\n",
              "      <td>froh sie den</td>\n",
              "      <td>versteck dich im schrank</td>\n",
              "    </tr>\n",
              "    <tr>\n",
              "      <th>4</th>\n",
              "      <td>tom asked mary to tell him about the house she...</td>\n",
              "      <td>sie  ihm einem   sie     ein</td>\n",
              "      <td>tom bat mary ihm von dem haus zu erzählen in d...</td>\n",
              "    </tr>\n",
              "    <tr>\n",
              "      <th>5</th>\n",
              "      <td>tom is my flesh and blood</td>\n",
              "      <td>tom ist mein und</td>\n",
              "      <td>tom ist mein fleisch und blut</td>\n",
              "    </tr>\n",
              "    <tr>\n",
              "      <th>6</th>\n",
              "      <td>you are what you eat</td>\n",
              "      <td>du bist was du isst</td>\n",
              "      <td>ihr seid was ihr esst</td>\n",
              "    </tr>\n",
              "    <tr>\n",
              "      <th>7</th>\n",
              "      <td>shes a single mother of two</td>\n",
              "      <td>sie ist eine ihrer frau</td>\n",
              "      <td>sie ist eine alleinerziehende mutter zweier ki...</td>\n",
              "    </tr>\n",
              "    <tr>\n",
              "      <th>8</th>\n",
              "      <td>i am losing my patience with you</td>\n",
              "      <td>ich verliere die geduld mit geduld</td>\n",
              "      <td>ich verliere die geduld mit ihnen</td>\n",
              "    </tr>\n",
              "    <tr>\n",
              "      <th>9</th>\n",
              "      <td>this meeting room is small</td>\n",
              "      <td>dieses diesem ist in klein</td>\n",
              "      <td>das sitzungszimmer ist klein</td>\n",
              "    </tr>\n",
              "    <tr>\n",
              "      <th>10</th>\n",
              "      <td>why are people here</td>\n",
              "      <td>warum sind die leute</td>\n",
              "      <td>warum sind die leute hier</td>\n",
              "    </tr>\n",
              "    <tr>\n",
              "      <th>11</th>\n",
              "      <td>its here</td>\n",
              "      <td>es ist hier</td>\n",
              "      <td>es ist hier</td>\n",
              "    </tr>\n",
              "    <tr>\n",
              "      <th>12</th>\n",
              "      <td>do you accept visa card</td>\n",
              "      <td>hast du ein karte</td>\n",
              "      <td>akzeptieren sie visakarten</td>\n",
              "    </tr>\n",
              "    <tr>\n",
              "      <th>13</th>\n",
              "      <td>as we grow older our memory becomes weaker</td>\n",
              "      <td>wie wir   unser freut wird</td>\n",
              "      <td>mit zunehmendem alter wird unser gedächtnis sc...</td>\n",
              "    </tr>\n",
              "    <tr>\n",
              "      <th>14</th>\n",
              "      <td>check to see if its right</td>\n",
              "      <td>schau mal ob es das</td>\n",
              "      <td>schau nach ob das stimmt</td>\n",
              "    </tr>\n",
              "    <tr>\n",
              "      <th>15</th>\n",
              "      <td>has tom already told you what needs to be done</td>\n",
              "      <td>hat tom dir schon gesagt was getan werden muss...</td>\n",
              "      <td>hat dir tom schon gesagt was gemacht werden muss</td>\n",
              "    </tr>\n",
              "    <tr>\n",
              "      <th>16</th>\n",
              "      <td>i almost never drink milk</td>\n",
              "      <td>ich trinke fast milch</td>\n",
              "      <td>ich trinke fast nie milch</td>\n",
              "    </tr>\n",
              "    <tr>\n",
              "      <th>17</th>\n",
              "      <td>i canceled my appointment because of urgent bu...</td>\n",
              "      <td>ich habe meinen versehen als ich statt</td>\n",
              "      <td>ich habe den termin wegen dringender geschäftl...</td>\n",
              "    </tr>\n",
              "    <tr>\n",
              "      <th>18</th>\n",
              "      <td>i love tom and at the same time i hate him</td>\n",
              "      <td>ich liebe tom und ich  ihn</td>\n",
              "      <td>ich liebe tom und gleichzeitig hasse ich ihn</td>\n",
              "    </tr>\n",
              "    <tr>\n",
              "      <th>19</th>\n",
              "      <td>i made tom go</td>\n",
              "      <td>ich habe tom gehen</td>\n",
              "      <td>ich habe tom veranlasst zu gehen</td>\n",
              "    </tr>\n",
              "  </tbody>\n",
              "</table>\n",
              "</div>\n",
              "      <button class=\"colab-df-convert\" onclick=\"convertToInteractive('df-0f071161-6dd3-4d78-8690-b8d6430bdb74')\"\n",
              "              title=\"Convert this dataframe to an interactive table.\"\n",
              "              style=\"display:none;\">\n",
              "        \n",
              "  <svg xmlns=\"http://www.w3.org/2000/svg\" height=\"24px\"viewBox=\"0 0 24 24\"\n",
              "       width=\"24px\">\n",
              "    <path d=\"M0 0h24v24H0V0z\" fill=\"none\"/>\n",
              "    <path d=\"M18.56 5.44l.94 2.06.94-2.06 2.06-.94-2.06-.94-.94-2.06-.94 2.06-2.06.94zm-11 1L8.5 8.5l.94-2.06 2.06-.94-2.06-.94L8.5 2.5l-.94 2.06-2.06.94zm10 10l.94 2.06.94-2.06 2.06-.94-2.06-.94-.94-2.06-.94 2.06-2.06.94z\"/><path d=\"M17.41 7.96l-1.37-1.37c-.4-.4-.92-.59-1.43-.59-.52 0-1.04.2-1.43.59L10.3 9.45l-7.72 7.72c-.78.78-.78 2.05 0 2.83L4 21.41c.39.39.9.59 1.41.59.51 0 1.02-.2 1.41-.59l7.78-7.78 2.81-2.81c.8-.78.8-2.07 0-2.86zM5.41 20L4 18.59l7.72-7.72 1.47 1.35L5.41 20z\"/>\n",
              "  </svg>\n",
              "      </button>\n",
              "      \n",
              "  <style>\n",
              "    .colab-df-container {\n",
              "      display:flex;\n",
              "      flex-wrap:wrap;\n",
              "      gap: 12px;\n",
              "    }\n",
              "\n",
              "    .colab-df-convert {\n",
              "      background-color: #E8F0FE;\n",
              "      border: none;\n",
              "      border-radius: 50%;\n",
              "      cursor: pointer;\n",
              "      display: none;\n",
              "      fill: #1967D2;\n",
              "      height: 32px;\n",
              "      padding: 0 0 0 0;\n",
              "      width: 32px;\n",
              "    }\n",
              "\n",
              "    .colab-df-convert:hover {\n",
              "      background-color: #E2EBFA;\n",
              "      box-shadow: 0px 1px 2px rgba(60, 64, 67, 0.3), 0px 1px 3px 1px rgba(60, 64, 67, 0.15);\n",
              "      fill: #174EA6;\n",
              "    }\n",
              "\n",
              "    [theme=dark] .colab-df-convert {\n",
              "      background-color: #3B4455;\n",
              "      fill: #D2E3FC;\n",
              "    }\n",
              "\n",
              "    [theme=dark] .colab-df-convert:hover {\n",
              "      background-color: #434B5C;\n",
              "      box-shadow: 0px 1px 3px 1px rgba(0, 0, 0, 0.15);\n",
              "      filter: drop-shadow(0px 1px 2px rgba(0, 0, 0, 0.3));\n",
              "      fill: #FFFFFF;\n",
              "    }\n",
              "  </style>\n",
              "\n",
              "      <script>\n",
              "        const buttonEl =\n",
              "          document.querySelector('#df-0f071161-6dd3-4d78-8690-b8d6430bdb74 button.colab-df-convert');\n",
              "        buttonEl.style.display =\n",
              "          google.colab.kernel.accessAllowed ? 'block' : 'none';\n",
              "\n",
              "        async function convertToInteractive(key) {\n",
              "          const element = document.querySelector('#df-0f071161-6dd3-4d78-8690-b8d6430bdb74');\n",
              "          const dataTable =\n",
              "            await google.colab.kernel.invokeFunction('convertToInteractive',\n",
              "                                                     [key], {});\n",
              "          if (!dataTable) return;\n",
              "\n",
              "          const docLinkHtml = 'Like what you see? Visit the ' +\n",
              "            '<a target=\"_blank\" href=https://colab.research.google.com/notebooks/data_table.ipynb>data table notebook</a>'\n",
              "            + ' to learn more about interactive tables.';\n",
              "          element.innerHTML = '';\n",
              "          dataTable['output_type'] = 'display_data';\n",
              "          await google.colab.output.renderOutput(dataTable, element);\n",
              "          const docLink = document.createElement('div');\n",
              "          docLink.innerHTML = docLinkHtml;\n",
              "          element.appendChild(docLink);\n",
              "        }\n",
              "      </script>\n",
              "    </div>\n",
              "  </div>\n",
              "  "
            ]
          },
          "metadata": {},
          "execution_count": 46
        }
      ]
    },
    {
      "cell_type": "markdown",
      "source": [
        "Function that allows user to test model translation prediction by inputting their own sentences. \\\\\n",
        "(Model only trained on sequences with length 15)."
      ],
      "metadata": {
        "id": "0yaR4dwut9Pp"
      }
    },
    {
      "cell_type": "code",
      "source": [
        "def clean_data(text):\n",
        "    text = text.replace('\\n', ' ')  # remove newline\n",
        "    text = text.replace('/', ' ')  # remove forward slashes\n",
        "    text = re.sub(r'\\s+', ' ', text)  # replace multiple whitespace with a single space\n",
        "    text = re.sub(r'[^a-zA-Z0-9äöüÄÖÜß ]', '', text)  # remove non-alphanumeric characters\n",
        "    text = text.lower()\n",
        "\n",
        "    return text"
      ],
      "metadata": {
        "id": "BtuQHpxLuP_x"
      },
      "execution_count": null,
      "outputs": []
    },
    {
      "cell_type": "code",
      "source": [
        "def predict_german_text(english_text):\n",
        "    # Preprocess the English text and obtain token sequence\n",
        "    english_text = clean_data(english_text)\n",
        "    input_sequence = encode_sequences(en_tokenizer, en_length, [english_text])\n",
        "\n",
        "    #Multiclassification prediction\n",
        "    preds = np.argmax(model.predict(input_sequence.reshape((input_sequence.shape[0], input_sequence.shape[1]))), axis=-1)\n",
        "\n",
        "    preds_text = []\n",
        "    for i in preds:\n",
        "        temp = []\n",
        "        for j in range(len(i)):\n",
        "            t = get_word(i[j], de_tokenizer)\n",
        "            if j > 0:\n",
        "                if (t == get_word(i[j-1], de_tokenizer)) or (t == None):\n",
        "                    temp.append('')\n",
        "                else:\n",
        "                    temp.append(t)\n",
        "            else:\n",
        "                if(t == None):\n",
        "                    temp.append('')\n",
        "                else:\n",
        "                    temp.append(t)\n",
        "\n",
        "        preds_text.append(' '.join(temp))\n",
        "\n",
        "    return preds_text[0]\n",
        "\n",
        "\n",
        "english_input = input(\"Enter English Text Here: \", )\n",
        "predicted_german = predict_german_text(english_input)\n",
        "print(\"Predicted German Translation: \", predicted_german)\n"
      ],
      "metadata": {
        "colab": {
          "base_uri": "https://localhost:8080/"
        },
        "id": "l4PKK9nrt5jg",
        "outputId": "453e34af-fb0a-4b90-c2c2-1257be157964"
      },
      "execution_count": null,
      "outputs": [
        {
          "output_type": "stream",
          "name": "stdout",
          "text": [
            "Enter English Text Here: German is too difficult\n",
            "1/1 [==============================] - 0s 22ms/step\n",
            "Predicted German Translation:  lustig ist zu schwer           \n"
          ]
        }
      ]
    },
    {
      "cell_type": "code",
      "source": [
        "compression_opts = dict(method='zip',\n",
        "                        archive_name='results.csv')\n",
        "pred_df.to_csv('results.zip', index=False,\n",
        "          compression=compression_opts)"
      ],
      "metadata": {
        "id": "UbHZlzMRt6yS"
      },
      "execution_count": null,
      "outputs": []
    }
  ],
  "metadata": {
    "kernelspec": {
      "display_name": "Python 3",
      "name": "python3"
    },
    "language_info": {
      "codemirror_mode": {
        "name": "ipython",
        "version": 3
      },
      "file_extension": ".py",
      "mimetype": "text/x-python",
      "name": "python",
      "nbconvert_exporter": "python",
      "pygments_lexer": "ipython3",
      "version": "3.8.8"
    },
    "orig_nbformat": 4,
    "colab": {
      "provenance": [],
      "gpuType": "T4"
    },
    "accelerator": "GPU"
  },
  "nbformat": 4,
  "nbformat_minor": 0
}